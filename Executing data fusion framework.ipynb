{
 "cells": [
  {
   "cell_type": "code",
   "execution_count": null,
   "metadata": {},
   "outputs": [],
   "source": [
    "%run ../scripts/Data/creatingMatrices.py\n",
    "%run ../scripts/DataFusionFramework/framework.py"
   ]
  },
  {
   "cell_type": "markdown",
   "metadata": {},
   "source": [
    "### Creating/Loading matrices"
   ]
  },
  {
   "cell_type": "code",
   "execution_count": null,
   "metadata": {},
   "outputs": [],
   "source": [
    "PPIasHumanInteractome = True"
   ]
  },
  {
   "cell_type": "markdown",
   "metadata": {},
   "source": [
    "##### Execute if the matrices need to be created"
   ]
  },
  {
   "cell_type": "code",
   "execution_count": null,
   "metadata": {
    "scrolled": true
   },
   "outputs": [],
   "source": [
    "if PPIasHumanInteractome:\n",
    "    r12Aug, l2, r23, l3, r12, a2, r23 = matricesCreationPPI(saveMatrices=True, verbose=True, numpy=True, pathLoad='../Data/Raw/', pathSave='../Data/Matrices/', alpha=0.6)\n",
    "else: \n",
    "    r12Aug, l2, r23, l3, r12, a2, r23 = matricesCreation(saveMatrices=True, verbose=True, numpy=True, pathLoad='../Data/Raw/', pathSave='../Data/Matrices/', alpha=0.6)"
   ]
  },
  {
   "cell_type": "markdown",
   "metadata": {},
   "source": [
    "##### Execute if the matrices are already created"
   ]
  },
  {
   "cell_type": "code",
   "execution_count": null,
   "metadata": {},
   "outputs": [],
   "source": [
    "if PPIasHumanInteractome:\n",
    "    r12Aug, l2, r23, l3 = matricesLoadNumpyPPI(pathLoad='../Data/Matrices/', alpha=0.6)\n",
    "else:\n",
    "    r12Aug, l2, r23, l3 = matricesLoadNumpy(pathLoad='../Data/Matrices/', alpha=0.6)"
   ]
  },
  {
   "cell_type": "code",
   "execution_count": null,
   "metadata": {},
   "outputs": [],
   "source": [
    "r12Aug.shape, l2.shape, r23.shape, l3.shape"
   ]
  },
  {
   "cell_type": "markdown",
   "metadata": {},
   "source": [
    "### Initializing matrices"
   ]
  },
  {
   "cell_type": "code",
   "execution_count": null,
   "metadata": {},
   "outputs": [],
   "source": [
    "#Parameters obtained after parametrization\n",
    "k1, k2, k3 = 3, 120, 80"
   ]
  },
  {
   "cell_type": "code",
   "execution_count": null,
   "metadata": {},
   "outputs": [],
   "source": [
    "g1, g2, g3, h12, h23 = matricesSVDInitialization(r12Aug, r23, k1, k2, k3)"
   ]
  },
  {
   "cell_type": "code",
   "execution_count": null,
   "metadata": {},
   "outputs": [],
   "source": [
    "g1.shape, g2.shape, g3.shape, h12.shape, h23.shape "
   ]
  },
  {
   "cell_type": "markdown",
   "metadata": {},
   "source": [
    "### Execute data fusion"
   ]
  },
  {
   "cell_type": "code",
   "execution_count": null,
   "metadata": {
    "scrolled": false
   },
   "outputs": [],
   "source": [
    "factors, errHistory = datafusionframework_triPMF(r12Aug, r23, l2, l3, g1, g2, g3, h12, h23, verbose=True, itStopChecking=100)\n",
    "\n",
    "H12, H23, G1, G2, G3 = factors\n",
    "np.save('../Data/Results/G1_SVD.npy', G1)\n",
    "np.save('../Data/Results/G2_SVD.npy', G2)\n",
    "np.save('../Data/Results/G3_SVD.npy', G3)\n",
    "np.save('../Data/Results/H12_SVD.npy', H12)\n",
    "np.save('../Data/Results/H23_SVD.npy', H23)"
   ]
  }
 ],
 "metadata": {
  "kernelspec": {
   "display_name": "Python 3",
   "language": "python",
   "name": "python3"
  },
  "language_info": {
   "codemirror_mode": {
    "name": "ipython",
    "version": 3
   },
   "file_extension": ".py",
   "mimetype": "text/x-python",
   "name": "python",
   "nbconvert_exporter": "python",
   "pygments_lexer": "ipython3",
   "version": "3.8.8"
  }
 },
 "nbformat": 4,
 "nbformat_minor": 2
}
