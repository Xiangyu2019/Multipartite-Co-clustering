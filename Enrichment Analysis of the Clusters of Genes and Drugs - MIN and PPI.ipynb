{
 "cells": [
  {
   "cell_type": "code",
   "execution_count": null,
   "metadata": {},
   "outputs": [],
   "source": [
    "%run ../scripts/ResultsAnalysis/enrichementAnalysis.py\n",
    "%run ../scripts/plots.py"
   ]
  },
  {
   "cell_type": "code",
   "execution_count": null,
   "metadata": {},
   "outputs": [],
   "source": [
    "decompositionPPI = False\n",
    "if decompositionPPI:\n",
    "    pathFile = '../Data/Results/PPIasHumanInteractome/'\n",
    "    genes = pd.read_csv('../Data/Names/Genes_PPI.csv')['Genes'].values\n",
    "    saveFig = '../Plots/ClusteringEnrichmentsPPI.png'\n",
    "else:\n",
    "    pathFile = '../Data/Results/'\n",
    "    genes = pd.read_csv('../Data/Names/Genes.csv')['Genes'].values\n",
    "    saveFig = '../Plots/ClusteringEnrichments.png'"
   ]
  },
  {
   "cell_type": "markdown",
   "metadata": {},
   "source": [
    "### Drugs"
   ]
  },
  {
   "cell_type": "code",
   "execution_count": null,
   "metadata": {},
   "outputs": [],
   "source": [
    "#Load drugs\n",
    "drugs = pd.read_csv('../Data/Names/Drugs.csv')['Drugs'].values\n",
    "\n",
    "#Extract clusters\n",
    "clusters = extractClusters(drugs, pathFile+'G3_SVD.npy')\n",
    "\n",
    "#Load annotations data\n",
    "categoriesToDrugs = loadDrugAnnotations(drugs, verbose=True)\n",
    "\n",
    "#Compute enrichment Analysis\n",
    "categoriesEnriched, clustersEnriched, drugsEnriched = enrichmentAnalysis(clusters, categoriesToDrugs)\n",
    "\n",
    "dfDrugsEnrichments = pd.DataFrame([categoriesEnriched, clustersEnriched, drugsEnriched], index=['Clusters of Drugs', 'Drug Categories', 'Drugs'], columns=['DC']).transpose()\n",
    "dfDrugsEnrichments\n"
   ]
  },
  {
   "cell_type": "markdown",
   "metadata": {},
   "source": [
    "### Genes"
   ]
  },
  {
   "cell_type": "code",
   "execution_count": null,
   "metadata": {},
   "outputs": [],
   "source": [
    "#Extract clusters\n",
    "clusters = extractClusters(genes, pathFile+'G2_SVD.npy')\n",
    "    \n",
    "GOEnrichments = []\n",
    "aspectsLabel = []\n",
    "for aspect in ['BiologicalProcess', 'MolecularFunction', 'CellularComponent']:\n",
    "    #Load annotations data\n",
    "    annotationsToGenes = loadGeneAnnotations(aspect, genes, verbose=False)\n",
    "\n",
    "    #Compute enrichment Analysis\n",
    "    annotationsEnriched, clustersEnriched, genesEnriched = enrichmentAnalysis(clusters, annotationsToGenes)\n",
    "\n",
    "    GOEnrichments.append([annotationsEnriched, clustersEnriched, genesEnriched])\n",
    "    \n",
    "    #Creating Labels for the plot\n",
    "    aspectsLabel.append(''.join([l for l in aspect if l.isupper()]))\n",
    "    \n",
    "dfGenesEnrichments = pd.DataFrame(GOEnrichments, index=['Clusters of Genes','GO Annotations','Genes'], columns=aspectsLabel).transpose()\n",
    "dfGenesEnrichments"
   ]
  },
  {
   "cell_type": "markdown",
   "metadata": {},
   "source": [
    "### Visulize Enrichments"
   ]
  },
  {
   "cell_type": "code",
   "execution_count": null,
   "metadata": {},
   "outputs": [],
   "source": [
    "plotEnrichments(dfGenesEnrichments, dfDrugsEnrichments, saveFig)"
   ]
  }
 ],
 "metadata": {
  "kernelspec": {
   "display_name": "Python 3",
   "language": "python",
   "name": "python3"
  },
  "language_info": {
   "codemirror_mode": {
    "name": "ipython",
    "version": 3
   },
   "file_extension": ".py",
   "mimetype": "text/x-python",
   "name": "python",
   "nbconvert_exporter": "python",
   "pygments_lexer": "ipython3",
   "version": "3.8.8"
  }
 },
 "nbformat": 4,
 "nbformat_minor": 2
}
