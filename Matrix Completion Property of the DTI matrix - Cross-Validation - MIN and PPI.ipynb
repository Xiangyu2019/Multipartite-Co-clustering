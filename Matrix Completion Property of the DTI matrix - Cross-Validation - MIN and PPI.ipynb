{
 "cells": [
  {
   "cell_type": "code",
   "execution_count": null,
   "metadata": {},
   "outputs": [],
   "source": [
    "from sklearn.model_selection import StratifiedKFold\n",
    "from sklearn.metrics import precision_score, recall_score, f1_score, precision_recall_fscore_support\n",
    "import pandas as pd\n",
    "import numpy as np\n",
    "import random"
   ]
  },
  {
   "cell_type": "code",
   "execution_count": null,
   "metadata": {},
   "outputs": [],
   "source": [
    "%run ../scripts/Data/creatingMatrices.py\n",
    "%run ../scripts/DataFusionFramework/framework.py\n",
    "%run ../scripts/ResultsAnalysis/PRandROCcurves.py\n",
    "%run ../scripts/plots.py"
   ]
  },
  {
   "cell_type": "code",
   "execution_count": null,
   "metadata": {},
   "outputs": [],
   "source": [
    "PPIasHumanInteractome = False"
   ]
  },
  {
   "cell_type": "code",
   "execution_count": null,
   "metadata": {},
   "outputs": [],
   "source": [
    "if PPIasHumanInteractome:\n",
    "    pathResults = '../Data/Results/PPIasHumanInteractome/'\n",
    "    pathPlots = '../Plots/PPIasHumanInteractome/'\n",
    "    pathMatrices = '../Data/Matrices/PPIasHumanInteractome/'\n",
    "else:\n",
    "    pathResults = '../Data/Results/'\n",
    "    pathPlots = '../Plots/'\n",
    "    pathMatrices = '../Data/Matrices/'"
   ]
  },
  {
   "cell_type": "markdown",
   "metadata": {},
   "source": [
    "### Loading matrices"
   ]
  },
  {
   "cell_type": "code",
   "execution_count": null,
   "metadata": {},
   "outputs": [],
   "source": [
    "if PPIasHumanInteractome:\n",
    "    r12Aug, l2, r23, l3 = matricesLoadNumpyPPI(pathLoad='../Data/Matrices/', alpha=0.6)\n",
    "else:\n",
    "    r12Aug, l2, r23, l3 = matricesLoadNumpy(pathLoad='../Data/Matrices/', alpha=0.6)"
   ]
  },
  {
   "cell_type": "code",
   "execution_count": null,
   "metadata": {},
   "outputs": [],
   "source": [
    "r12Aug.shape, l2.shape, r23.shape, l3.shape"
   ]
  },
  {
   "cell_type": "code",
   "execution_count": null,
   "metadata": {},
   "outputs": [],
   "source": [
    "knownDTIs = np.where(r23 == 1)\n",
    "knownDTIsList = np.concatenate((knownDTIs[0], knownDTIs[1])).reshape((2,knownDTIs[0].shape[0])).transpose()\n",
    "\n",
    "notKnownDTIs = np.where(r23 == 0)\n",
    "notKnownDTIsList = np.concatenate((notKnownDTIs[0], notKnownDTIs[1])).reshape((2,notKnownDTIs[0].shape[0])).transpose()\n",
    "\n",
    "DTIsList = np.concatenate((knownDTIsList, notKnownDTIsList))\n",
    "DTIsLabels = np.concatenate((np.ones(knownDTIsList.shape[0]), np.zeros(notKnownDTIsList.shape[0])))\n",
    "\n",
    "del knownDTIs\n",
    "del knownDTIsList\n",
    "del notKnownDTIs\n",
    "del notKnownDTIsList"
   ]
  },
  {
   "cell_type": "markdown",
   "metadata": {},
   "source": [
    "### Cross-validation r23 (DTIs) in 10-folds"
   ]
  },
  {
   "cell_type": "code",
   "execution_count": null,
   "metadata": {
    "scrolled": true
   },
   "outputs": [],
   "source": [
    "verbose=True\n",
    "\n",
    "pr_aucs_train, pr_aucs_validation = [], []\n",
    "roc_aucs_train, roc_aucs_validation = [], []\n",
    "\n",
    "precisions_train, precisions_validation = [], []\n",
    "recalls_train, recalls_validation = [], []\n",
    "\n",
    "fprs_train, fprs_validation = [], []\n",
    "tprs_train, tprs_validation = [], []\n",
    "\n",
    "skf = StratifiedKFold(n_splits=10, random_state=42, shuffle=True)\n",
    "fold = 0\n",
    "for train_index, validation_index in skf.split(DTIsList, DTIsLabels):\n",
    "    fold += 1\n",
    "\n",
    "    if verbose: print(\"FOLD\", fold)\n",
    "    if verbose: print(\"  TRAIN:\", len(train_index))\n",
    "    if verbose: print(\"  TEST:\", len(validation_index))\n",
    "\n",
    "    trainingknownDTIs = DTIsList[train_index][DTIsLabels[train_index] == 1]\n",
    "\n",
    "    #Construct DTIs matrix with training entries\n",
    "    r23_training_DTIs = np.zeros(r23.shape)\n",
    "    r23_training_DTIs[trainingknownDTIs[:, 0], trainingknownDTIs[:, 1]] = 1\n",
    "    if verbose: print(r23_training_DTIs.shape, r23_training_DTIs.sum())\n",
    "\n",
    "\n",
    "    #Initializing factor matrices\n",
    "    k1, k2, k3 = 3, 120, 80 #Parameters obtained after parametrization\n",
    "    g1, g2, g3, h12, h23 = matricesSVDInitialization(r12Aug, r23_training_DTIs, k1, k2, k3)\n",
    "    if verbose: print('  Factors shapes', g1.shape, g2.shape, g3.shape, h12.shape, h23.shape)\n",
    "\n",
    "        \n",
    "    #Computing decoposition  \n",
    "    if verbose: print('  ->Staring decompostion')\n",
    "    factors, errHistory = datafusionframework_triPMF(r12Aug, r23_training_DTIs, l2, l3, g1, g2, g3, h12, h23, verbose=verbose, itStopChecking=100)\n",
    "    del errHistory\n",
    "    \n",
    "    H12, H23, G1, G2, G3 = factors\n",
    "    np.save(pathResults + 'CrossFoldValidation/DecompositionFactors/G1_SVD_10Fold_{}.npy'.format(fold), G1)\n",
    "    np.save(pathResults + 'CrossFoldValidation/DecompositionFactors/G2_SVD_10Fold_{}.npy'.format(fold), G2)\n",
    "    np.save(pathResults + 'CrossFoldValidation/DecompositionFactors/G3_SVD_10Fold_{}.npy'.format(fold), G3)\n",
    "    np.save(pathResults + 'CrossFoldValidation/DecompositionFactors/H12_SVD_10Fold_{}.npy'.format(fold), H12)\n",
    "    np.save(pathResults + 'CrossFoldValidation/DecompositionFactors/H23_SVD_10Fold_{}.npy'.format(fold), H23)\n",
    "\n",
    "    #Relese memory\n",
    "    del G1, H12\n",
    "    del g1, g2, g3, h12, h23 \n",
    "    \n",
    "    #Reconstruct matrix\n",
    "    R23_reconstruct = np.matmul(G2, np.matmul(H23, np.transpose(G3)))\n",
    "    #Relese memory\n",
    "    del G2, G3, H23, factors\n",
    "    \n",
    "    #Separe reconstructed matrix in train and validation\n",
    "    R23_reconstruct_training = R23_reconstruct[DTIsList[train_index][:,0], DTIsList[train_index][:,1]]\n",
    "    R23_reconstruct_validating = R23_reconstruct[DTIsList[validation_index][:,0], DTIsList[validation_index][:,1]]\n",
    "    #Relese memory\n",
    "    del R23_reconstruct\n",
    "\n",
    "    #Separe input matrix in train and validation\n",
    "    r23_training = r23[DTIsList[train_index][:,0], DTIsList[train_index][:,1]]\n",
    "    r23_validating = r23[DTIsList[validation_index][:,0], DTIsList[validation_index][:,1]]\n",
    "\n",
    "\n",
    "    #Computing PR-Curves\n",
    "    if verbose: print('  ->Computing PR-Curves')\n",
    "    precision_train, recall_train, pr_auc_train = computePRCurve(r23_training, R23_reconstruct_training, computeThreshold=False)\n",
    "    precision_validation, recall_validation, pr_auc_validation = computePRCurve(r23_validating, R23_reconstruct_validating, computeThreshold=False)\n",
    "    \n",
    "    pr_aucs_train.append(pr_auc_train)\n",
    "    pr_aucs_validation.append(pr_auc_validation)\n",
    "    \n",
    "    precisions_train.append(precision_train)\n",
    "    precisions_validation.append(precision_validation)\n",
    "    \n",
    "    recalls_train.append(recall_train)\n",
    "    recalls_validation.append(recall_validation)\n",
    "    \n",
    "\n",
    "    #Computing ROC-Curves\n",
    "    if verbose: print('  ->Computing ROC-Curves')\n",
    "    fpr_train, tpr_train, roc_auc_train = computeROC(r23_training, R23_reconstruct_training)\n",
    "    fpr_validation, tpr_validation, roc_auc_validation = computeROC(r23_validating, R23_reconstruct_validating)    \n",
    "\n",
    "    roc_aucs_train.append(roc_auc_train)\n",
    "    roc_aucs_validation.append(roc_auc_validation)\n",
    "    \n",
    "    fprs_train.append(fpr_train)\n",
    "    fprs_validation.append(fpr_validation)\n",
    "    \n",
    "    tprs_train.append(tpr_train)\n",
    "    tprs_validation.append(tpr_validation)\n",
    "\n",
    "    \n",
    "del R23_reconstruct_training, R23_reconstruct_validating\n",
    "    \n",
    "if verbose: print('Saving Results')\n",
    "#Saving results\n",
    "fileSaveAUCs = pathResults + 'CrossFoldValidation/AUCsResults.csv'\n",
    "dfCVResults = pd.DataFrame([pr_aucs_train, pr_aucs_validation, roc_aucs_train, roc_aucs_validation], \n",
    "                           columns=['Fold 1', 'Fold 2', 'Fold 3', 'Fold 4', 'Fold 5', 'Fold 6', 'Fold 7', 'Fold 8', 'Fold 9', 'Fold 10'],\n",
    "                           index=['PR_AUC_Train', 'PR_AUC_Validation', 'ROC_AUC_Train', 'ROC_AUC_Validation']).to_csv(fileSaveAUCs)\n",
    "\n",
    "np.save(pathResults + 'CrossFoldValidation/precision-train.npy', precisions_train)\n",
    "np.save(pathResults + 'CrossFoldValidation/precision-validation.npy', precisions_validation)\n",
    "np.save(pathResults + 'CrossFoldValidation/recall-train.npy', recalls_train)\n",
    "np.save(pathResults + 'CrossFoldValidation/recall-validation.npy', recalls_validation)\n",
    "np.save(pathResults + 'CrossFoldValidation/thresholds-train.npy', threshold_train)\n",
    "np.save(pathResults + 'CrossFoldValidation/thresholds-validation.npy', threshold_validation)\n",
    "np.save(pathResults + 'CrossFoldValidation/fpr-train.npy', fprs_train)\n",
    "np.save(pathResults + 'CrossFoldValidation/fpr-validation.npy', fprs_validation)\n",
    "np.save(pathResults + 'CrossFoldValidation/tpr-train.npy', tprs_train)\n",
    "np.save(pathResults + 'CrossFoldValidation/tpr-validation.npy', tprs_validation)\n"
   ]
  },
  {
   "cell_type": "markdown",
   "metadata": {},
   "source": [
    "### Plot PR and ROC curves"
   ]
  },
  {
   "cell_type": "code",
   "execution_count": null,
   "metadata": {},
   "outputs": [],
   "source": [
    "if 'pr_aucs_train' not in locals():\n",
    "    dfCVResults = pd.read_csv(pathResults + 'CrossFoldValidation/AUCsResults.csv', index_col=0)\n",
    "    pr_aucs_train = dfCVResults.loc['PR_AUC_Train'].values\n",
    "    pr_aucs_validation = dfCVResults.loc['PR_AUC_Validation'].values\n",
    "    roc_aucs_train = dfCVResults.loc['ROC_AUC_Train'].values\n",
    "    roc_aucs_validation = dfCVResults.loc['ROC_AUC_Validation'].values\n"
   ]
  },
  {
   "cell_type": "code",
   "execution_count": null,
   "metadata": {},
   "outputs": [],
   "source": [
    "if 'precisions_train' not in locals():\n",
    "    precisions_train = np.load(pathResults + 'CrossFoldValidation/precision-train.npy', allow_pickle=True)\n",
    "if 'recalls_train' not in locals():\n",
    "    recalls_train = np.load(pathResults + 'CrossFoldValidation/recall-train.npy', allow_pickle=True)\n",
    "plotCVPRCurve(precisions_train, recalls_train, pr_aucs_train, titleExtra=' (Train)', saveFile=pathPlots + 'CrossFoldValidation/PR-Curve-Train.png')\n",
    "del precisions_train, recalls_train\n"
   ]
  },
  {
   "cell_type": "code",
   "execution_count": null,
   "metadata": {},
   "outputs": [],
   "source": [
    "if 'precisions_validation' not in locals():    \n",
    "    precisions_validation = np.load(pathResults + 'CrossFoldValidation/precision-validation.npy', allow_pickle=True)\n",
    "if 'recalls_validation' not in locals():\n",
    "    recalls_validation = np.load(pathResults + 'CrossFoldValidation/recall-validation.npy', allow_pickle=True)\n",
    "plotCVPRCurve(precisions_validation, recalls_validation, pr_aucs_validation, titleExtra=' (Validation)', saveFile='../Plots/CrossFoldValidation/PR-Curve-Validation.png')\n",
    "del precisions_validation, recalls_validation"
   ]
  },
  {
   "cell_type": "code",
   "execution_count": null,
   "metadata": {},
   "outputs": [],
   "source": [
    "if 'fprs_train' not in locals():\n",
    "    fprs_train = np.load(pathResults + 'CrossFoldValidation/fpr-train.npy', allow_pickle=True)\n",
    "if 'tprs_train' not in locals():\n",
    "    tprs_train = np.load(pathResults + 'CrossFoldValidation/tpr-train.npy', allow_pickle=True)\n",
    "plotCVROCcurves(fprs_train, tprs_train, roc_aucs_train,  titleExtra=' (Train)', saveFile=pathPlots + 'CrossFoldValidation/ROC-Curve-Train.png')\n",
    "del fprs_train, tprs_train\n"
   ]
  },
  {
   "cell_type": "code",
   "execution_count": null,
   "metadata": {},
   "outputs": [],
   "source": [
    "if 'fprs_validation' not in locals():\n",
    "    fprs_validation = np.load(pathResults + 'CrossFoldValidation/fpr-validation.npy', allow_pickle=True)\n",
    "if 'tprs_validation' not in locals():\n",
    "    tprs_validation = np.load(pathResults + 'CrossFoldValidation/tpr-validation.npy', allow_pickle=True)\n",
    "plotCVROCcurves(fprs_validation, tprs_validation, roc_aucs_validation,  titleExtra=' (Validation)', saveFile= pathPlots + 'CrossFoldValidation/ROC-Curve-Validation.png')\n",
    "del fprs_validation, tprs_validation"
   ]
  },
  {
   "cell_type": "markdown",
   "metadata": {},
   "source": [
    "## Compute precision and recall for the choosen threshold"
   ]
  },
  {
   "cell_type": "code",
   "execution_count": null,
   "metadata": {},
   "outputs": [],
   "source": [
    "verbose = False\n",
    "t = 0.295\n",
    "\n",
    "precisionsThreshold, recallsThreshold = [], []\n",
    "\n",
    "skf = StratifiedKFold(n_splits=10, random_state=42, shuffle=True)\n",
    "fold = 0\n",
    "for train_index, validation_index in skf.split(DTIsList, DTIsLabels):\n",
    "    fold += 1\n",
    "    print(\"FOLD\", fold)\n",
    "\n",
    "    trainingknownDTIs = DTIsList[train_index][DTIsLabels[train_index] == 1]\n",
    "\n",
    "    #Construct DTIs matrix with training entries\n",
    "    r23_training_DTIs = np.zeros(r23.shape)\n",
    "    r23_training_DTIs[trainingknownDTIs[:, 0], trainingknownDTIs[:, 1]] = 1\n",
    "    if verbose: print(r23_training_DTIs.shape, r23_training_DTIs.sum())\n",
    "\n",
    "    G2 = np.load(pathResults + 'CrossFoldValidation/DecompositionFactors/G2_SVD_10Fold_{}.npy'.format(fold))\n",
    "    G3 = np.load(pathResults + 'CrossFoldValidation/DecompositionFactors/G3_SVD_10Fold_{}.npy'.format(fold))\n",
    "    H23 = np.load(pathResults + 'CrossFoldValidation/DecompositionFactors/H23_SVD_10Fold_{}.npy'.format(fold))\n",
    "\n",
    "    \n",
    "    #Reconstruct matrix\n",
    "    R23_reconstruct = np.matmul(G2, np.matmul(H23, np.transpose(G3)))\n",
    "    \n",
    "    #Separe reconstructed matrix in train and validation\n",
    "    R23_reconstruct_training = R23_reconstruct[DTIsList[train_index][:,0], DTIsList[train_index][:,1]]\n",
    "    R23_reconstruct_validating = R23_reconstruct[DTIsList[validation_index][:,0], DTIsList[validation_index][:,1]]\n",
    "    #Relese memory\n",
    "    del R23_reconstruct\n",
    "    \n",
    "    R23_reconstruct_training_threshold = np.where(R23_reconstruct_training > t, 1, 0)\n",
    "    R23_reconstruct_validating_threshold = np.where(R23_reconstruct_validating > t, 1, 0)\n",
    "    \n",
    "    #Separate input matrix in train and validation\n",
    "    r23_training = r23[DTIsList[train_index][:,0], DTIsList[train_index][:,1]]\n",
    "    r23_validating = r23[DTIsList[validation_index][:,0], DTIsList[validation_index][:,1]]\n",
    "    \n",
    "    \n",
    "    #Compute Precision and Recall\n",
    "    precisionsThreshold.append(precision_score(r23_validating,R23_reconstruct_validating_threshold))\n",
    "    recallsThreshold.append(recall_score(r23_validating,R23_reconstruct_validating_threshold))\n",
    "    \n",
    "np.save(pathResults + 'CrossFoldValidation/precisionThreshold-validation.npy', precisionsThreshold)\n",
    "np.save(pathResults + 'CrossFoldValidation/recallThreshold-validation.npy', recallsThreshold)\n"
   ]
  },
  {
   "cell_type": "code",
   "execution_count": null,
   "metadata": {},
   "outputs": [],
   "source": [
    "if 'pr_aucs_train' not in locals():\n",
    "    dfCVResults = pd.read_csv(pathResults + 'CrossFoldValidation/AUCsResults.csv', index_col=0)\n",
    "    pr_aucs_validation = dfCVResults.loc['PR_AUC_Validation'].values\n",
    "\n",
    "if 'precisions_validation' not in locals():    \n",
    "    precisions_validation = np.load(pathResults + 'CrossFoldValidation/precision-validation.npy', allow_pickle=True)\n",
    "if 'recalls_validation' not in locals():\n",
    "    recalls_validation = np.load(pathResults + 'CrossFoldValidation/recall-validation.npy', allow_pickle=True)\n",
    "if 'precisionsThreshold' not in locals():\n",
    "    precisionsThreshold = np.load(pathResults + 'CrossFoldValidation/precisionThreshold-validation.npy')\n",
    "if 'recallsThreshold' not in locals():    \n",
    "    recallsThreshold = np.load(pathResults + 'CrossFoldValidation/recallThreshold-validation.npy')\n",
    "\n",
    "    \n",
    "plotCVPRCurve(precisions_validation, recalls_validation, pr_aucs_validation, thresholdPerformance=[precisionsThreshold, recallsThreshold], titleExtra=' (Validation)', saveFile= pathPlots + 'CrossFoldValidation/PR-Curve-Validation-Threshold.png')\n",
    "del pr_aucs_validation, dfCVResults, precisions_validation, recalls_validation, precisionsThreshold, recallsThreshold\n"
   ]
  },
  {
   "cell_type": "code",
   "execution_count": null,
   "metadata": {},
   "outputs": [],
   "source": []
  }
 ],
 "metadata": {
  "kernelspec": {
   "display_name": "Python 3",
   "language": "python",
   "name": "python3"
  },
  "language_info": {
   "codemirror_mode": {
    "name": "ipython",
    "version": 3
   },
   "file_extension": ".py",
   "mimetype": "text/x-python",
   "name": "python",
   "nbconvert_exporter": "python",
   "pygments_lexer": "ipython3",
   "version": "3.8.8"
  }
 },
 "nbformat": 4,
 "nbformat_minor": 2
}
