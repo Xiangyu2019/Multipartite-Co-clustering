{
 "cells": [
  {
   "cell_type": "code",
   "execution_count": null,
   "metadata": {},
   "outputs": [],
   "source": [
    "from scipy.stats import hypergeom, mannwhitneyu\n",
    "import pandas as pd"
   ]
  },
  {
   "cell_type": "code",
   "execution_count": null,
   "metadata": {},
   "outputs": [],
   "source": [
    "%run ../scripts/ResultsAnalysis/topologicalAnalysisNetwork.py\n",
    "%run ../scripts/plots.py"
   ]
  },
  {
   "cell_type": "markdown",
   "metadata": {},
   "source": [
    "## Create Gene Sets"
   ]
  },
  {
   "cell_type": "markdown",
   "metadata": {},
   "source": [
    "#### Load VI and DEGs"
   ]
  },
  {
   "cell_type": "code",
   "execution_count": null,
   "metadata": {},
   "outputs": [],
   "source": [
    "VI = pd.read_csv('../Data/GeneSets/VIsGenes.csv').values.flatten()\n",
    "DEG = pd.read_csv('../Data/GeneSets/DEGsGenes.csv').values.flatten()\n",
    "print(VI.shape[0], ' VIs')\n",
    "print(DEG.shape[0], 'DEGs')"
   ]
  },
  {
   "cell_type": "markdown",
   "metadata": {},
   "source": [
    "#### Compute gene sets for PPI"
   ]
  },
  {
   "cell_type": "code",
   "execution_count": null,
   "metadata": {},
   "outputs": [],
   "source": [
    "PPI = pd.read_csv('../Data/Matrices/PPIasHumanInteractome/Matrix_A2.csv', index_col=0)\n",
    "computeGeneSets(PPI, VI, DEG, '../Data/GeneSets/PPIasHumanInteractome/')"
   ]
  },
  {
   "cell_type": "markdown",
   "metadata": {},
   "source": [
    "#### Compute gene sets for MIN"
   ]
  },
  {
   "cell_type": "code",
   "execution_count": null,
   "metadata": {},
   "outputs": [],
   "source": [
    "MIN = pd.read_csv('../Data/Matrices/Matrix_A2.csv', index_col=0)\n",
    "computeGeneSets(MIN, VI, DEG, '../Data/GeneSets/')"
   ]
  },
  {
   "cell_type": "markdown",
   "metadata": {},
   "source": [
    "## Overlap of the VI and DEGs neighbors "
   ]
  },
  {
   "cell_type": "code",
   "execution_count": null,
   "metadata": {},
   "outputs": [],
   "source": [
    "DEGNeigh = pd.read_csv('../Data/GeneSets/DEGNeighboursGenes.csv').values.flatten()\n",
    "VINeigh = pd.read_csv('../Data/GeneSets/VINeighboursGenes.csv').values.flatten()\n",
    "DEGNeigh.shape[0], VINeigh.shape[0]"
   ]
  },
  {
   "cell_type": "code",
   "execution_count": null,
   "metadata": {},
   "outputs": [],
   "source": [
    "plotNeighborsOverlap(VINeigh, DEGNeigh)"
   ]
  },
  {
   "cell_type": "markdown",
   "metadata": {},
   "source": [
    "###  Hypergeometric test\n",
    "\n",
    "Let M be the total number of gene in the network, out of which K are in neigh(DEGs). N genes are in Neigh(VHIs), out of which X are also in neigh(DEGs). The probability of having X or more common neighbor by chance is obtained by the hypergeometric formula for enrichments."
   ]
  },
  {
   "cell_type": "code",
   "execution_count": null,
   "metadata": {},
   "outputs": [],
   "source": [
    "commonNeigh = pd.read_csv('../Data/GeneSets/CommonNeighboursGenes.csv').values.flatten()\n",
    "allGenes = pd.read_csv('../Data/Names/Genes.csv').values.flatten()"
   ]
  },
  {
   "cell_type": "code",
   "execution_count": null,
   "metadata": {},
   "outputs": [],
   "source": [
    "M = len(allGenes)\n",
    "K = len(DEGNeigh)\n",
    "N = len(VINeigh)\n",
    "X = len(commonNeigh)\n",
    "print('All genes ', M)\n",
    "print('DEG neighbors ', K)\n",
    "print('VI neighbros ', N)\n",
    "print('Common neighbors ', X)\n",
    "print('Percentage of common genes ', X/(K+N-X)*100)\n",
    "print('p-value: ', hypergeom.sf(X-1, M, K, N))"
   ]
  },
  {
   "cell_type": "markdown",
   "metadata": {},
   "source": [
    "### Degree "
   ]
  },
  {
   "cell_type": "code",
   "execution_count": null,
   "metadata": {},
   "outputs": [],
   "source": [
    "MIN = pd.read_csv('../Data/Matrices/Matrix_A2.csv', index_col=0)"
   ]
  },
  {
   "cell_type": "code",
   "execution_count": null,
   "metadata": {},
   "outputs": [],
   "source": [
    "allGenes = pd.read_csv('../Data/GeneSets/allGenes.csv')\n",
    "allGenes.columns = ['Gene', 'Gene Set']"
   ]
  },
  {
   "cell_type": "code",
   "execution_count": null,
   "metadata": {},
   "outputs": [],
   "source": [
    "degrees = computeDegree(MIN)\n",
    "dfDegreeGeneSet = pd.merge(degrees, allGenes, on='Gene')"
   ]
  },
  {
   "cell_type": "code",
   "execution_count": null,
   "metadata": {},
   "outputs": [],
   "source": [
    "saveFile = 'Plot/BoxPlotComparisonDegrees.png'\n",
    "plotBoxPlotDegreeComparison(dfDegreeGeneSet, saveFile=None)"
   ]
  },
  {
   "cell_type": "code",
   "execution_count": null,
   "metadata": {},
   "outputs": [],
   "source": [
    "dfCentralityMeasures = centralityMeasures(MIN, verbose=True)\n",
    "dfCentralityMeasures.to_csv('../Data/Results/CentralityMeasuresTmp.csv')"
   ]
  },
  {
   "cell_type": "code",
   "execution_count": null,
   "metadata": {},
   "outputs": [],
   "source": [
    "dfCentralityMeasuresGeneSet = pd.merge(dfCentralityMeasures, allGenes, on='Gene')\n",
    "dfCentralityMeasuresGeneSet.groupby('Gene Set').mean().to_csv('../Data/Results/CentralityMeasuresMeans.csv')"
   ]
  },
  {
   "cell_type": "markdown",
   "metadata": {},
   "source": [
    "#### Test for statistically significant \n",
    "\n",
    " Two-sided Mann-Whitney-Wilcoxon test (p < 0.05)."
   ]
  },
  {
   "cell_type": "code",
   "execution_count": null,
   "metadata": {},
   "outputs": [],
   "source": [
    "res = []\n",
    "geneSets = dfDegreeGeneSet['Gene Set'].unique()\n",
    "for i, id1 in enumerate(geneSets):\n",
    "    geneset1 = dfDegreeGeneSet[dfDegreeGeneSet['Gene Set'] == id1]['Degree'].values\n",
    "    for id2 in list(geneSets)[i+1:]:\n",
    "        geneset2 = dfDegreeGeneSet[dfDegreeGeneSet['Gene Set'] == id2]['Degree'].values\n",
    "        manmannwhitneyuRes = mannwhitneyu(geneset1, geneset2, use_continuity=False, alternative='two-sided')\n",
    "        res.append([id1, id2, manmannwhitneyuRes[0], manmannwhitneyuRes[1]])\n",
    "                    \n",
    "                    \n",
    "dfRes = pd.DataFrame(res, columns=['Gene Set 1','Gene Set 2', 'u-statistic', 'p-value'])                    \n",
    "dfRes.to_csv('../Data/Results/MolecularNetworkAnalysis-DegreeComparison.csv', index=False)"
   ]
  },
  {
   "cell_type": "markdown",
   "metadata": {},
   "source": [
    "## GDV"
   ]
  },
  {
   "cell_type": "markdown",
   "metadata": {},
   "source": [
    "### Compare GDV of the different gene sets in the MIN"
   ]
  },
  {
   "cell_type": "markdown",
   "metadata": {},
   "source": [
    "#### Load gene sets"
   ]
  },
  {
   "cell_type": "code",
   "execution_count": null,
   "metadata": {},
   "outputs": [],
   "source": [
    "dfAllGenes = pd.read_csv('../Data/GeneSets/allGenes.csv')\n",
    "VI = dfAllGenes[dfAllGenes['Gene Description'] == 'VI']['Gene'].unique()\n",
    "DEG = dfAllGenes[dfAllGenes['Gene Description'] == 'DEG']['Gene'].unique()\n",
    "VINeigh = dfAllGenes[dfAllGenes['Gene Description'] == 'VI-unique neighbor']['Gene'].unique()\n",
    "DEGNeigh = dfAllGenes[dfAllGenes['Gene Description'] == 'DEG-unique neighbor']['Gene'].unique()\n",
    "ComNeigh = dfAllGenes[dfAllGenes['Gene Description'] == 'Common neighbor']['Gene'].unique()\n",
    "Background = dfAllGenes[dfAllGenes['Gene Description'] == 'Background']['Gene'].unique()\n",
    "\n",
    "print(VI.shape[0], ' VIs')\n",
    "print(DEG.shape[0], ' DEGs')\n",
    "print(VINeigh.shape[0], ' VI-unique Neighbors')\n",
    "print(DEGNeigh.shape[0], ' DEG-unique Neighbors')\n",
    "print(ComNeigh.shape[0], ' Common Neighbors')\n",
    "print(Background.shape[0], ' Background')"
   ]
  },
  {
   "cell_type": "markdown",
   "metadata": {},
   "source": [
    "#### Load MIN"
   ]
  },
  {
   "cell_type": "code",
   "execution_count": null,
   "metadata": {},
   "outputs": [],
   "source": [
    "MIN = pd.read_csv('../Data/Matrices/Matrix_A2.csv', index_col=0)"
   ]
  },
  {
   "cell_type": "markdown",
   "metadata": {},
   "source": [
    "#### Create orca files"
   ]
  },
  {
   "cell_type": "code",
   "execution_count": null,
   "metadata": {},
   "outputs": [],
   "source": [
    "fileName = \"MIN_names_edgelist\"\n",
    "label_mapping, reverse_mapping = createOrcaFile(MIN, fileName)"
   ]
  },
  {
   "cell_type": "markdown",
   "metadata": {},
   "source": [
    "#### Plot"
   ]
  },
  {
   "cell_type": "code",
   "execution_count": null,
   "metadata": {},
   "outputs": [],
   "source": [
    "geneSets = [VI, DEG, VINeigh, DEGNeigh, ComNeigh, Background]\n",
    "nameSubGeneSets = ['VI', 'DEG', 'VI-unique neighbors', 'DEG-unique neighbors', 'Common neighbors', 'Background']\n",
    "colors = [\"#7fb9d7\", \"#fdb456\", \"#1f78b4\", \"#ff7f00\", '#33a02c', \"#a4a4a4\"]\n",
    "saveFile = '../Plots/GDV_signature_geneGroups.jpg'\n",
    "outFilePath = '../Data/OrcaFormatFiles'\n",
    "plotGDVDifferentSetsSameNetwork(fileName, outFilePath, reverse_mapping, geneSets, nameSubGeneSets, colors, saveFile)"
   ]
  }
 ],
 "metadata": {
  "kernelspec": {
   "display_name": "Python 3",
   "language": "python",
   "name": "python3"
  },
  "language_info": {
   "codemirror_mode": {
    "name": "ipython",
    "version": 3
   },
   "file_extension": ".py",
   "mimetype": "text/x-python",
   "name": "python",
   "nbconvert_exporter": "python",
   "pygments_lexer": "ipython3",
   "version": "3.8.8"
  }
 },
 "nbformat": 4,
 "nbformat_minor": 2
}
