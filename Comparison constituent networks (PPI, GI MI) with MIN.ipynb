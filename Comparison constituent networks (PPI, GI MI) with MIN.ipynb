{
 "cells": [
  {
   "cell_type": "code",
   "execution_count": null,
   "metadata": {},
   "outputs": [],
   "source": [
    "import pandas as pd"
   ]
  },
  {
   "cell_type": "code",
   "execution_count": null,
   "metadata": {},
   "outputs": [],
   "source": [
    "%run ../scripts/ResultsAnalysis/topologicalAnalysisNetwork.py\n",
    "%run ../scripts/Data/creatingNetworksUtils.py\n",
    "%run ../scripts/ResultsAnalysis/comparisonConstituentMatrices.py\n",
    "%run ../scripts/plots.py"
   ]
  },
  {
   "cell_type": "markdown",
   "metadata": {},
   "source": [
    "### Load datasets"
   ]
  },
  {
   "cell_type": "code",
   "execution_count": null,
   "metadata": {},
   "outputs": [],
   "source": [
    "edgeListPPI = pd.read_csv('../Data/Networks/BioGRID_PPI-HS_edgeList.csv', index_col=0)\n",
    "dfPPI = createAdjacencyMatrixFromEdgeList(edgeListPPI, undirected=True)"
   ]
  },
  {
   "cell_type": "code",
   "execution_count": null,
   "metadata": {},
   "outputs": [],
   "source": [
    "edgeListGI = pd.read_csv('../Data/Networks/BioGRID_GI-HS_edgeList.csv', index_col=0)\n",
    "dfGI = createAdjacencyMatrixFromEdgeList(edgeListGI, undirected=True)"
   ]
  },
  {
   "cell_type": "code",
   "execution_count": null,
   "metadata": {},
   "outputs": [],
   "source": [
    "edgeListMI = pd.read_csv('../Data/Networks/KEGG_metabolic_network_hgnc.csv', index_col=0)\n",
    "dfMI = createAdjacencyMatrixFromEdgeList(edgeListMI, undirected=True)"
   ]
  },
  {
   "cell_type": "code",
   "execution_count": null,
   "metadata": {},
   "outputs": [],
   "source": [
    "edgeListMIN = pd.read_csv('../Data/Networks/MIN_edgeList.csv')\n",
    "dfMIN = createAdjacencyMatrixFromEdgeList(edgeListMIN, undirected=True)"
   ]
  },
  {
   "cell_type": "markdown",
   "metadata": {},
   "source": [
    "### Gene ovelap between the consituent networks"
   ]
  },
  {
   "cell_type": "code",
   "execution_count": null,
   "metadata": {},
   "outputs": [],
   "source": [
    "genesPPI = dfPPI.columns\n",
    "genesGI = dfGI.columns\n",
    "genesMI = dfMI.columns"
   ]
  },
  {
   "cell_type": "code",
   "execution_count": null,
   "metadata": {},
   "outputs": [],
   "source": [
    "fileName = '../Plots/overlapGenes_consituentMatrices.png'\n",
    "plotThreeOverlapSets(genesPPI, genesGI, genesMI, fileName)"
   ]
  },
  {
   "cell_type": "markdown",
   "metadata": {},
   "source": [
    "### Edge Overlap"
   ]
  },
  {
   "cell_type": "code",
   "execution_count": null,
   "metadata": {},
   "outputs": [],
   "source": [
    "edgesPPI = convertEdgeList(edgeListPPI)\n",
    "edgesGI = convertEdgeList(edgeListGI)\n",
    "edgesMI = convertEdgeList(edgeListMI)"
   ]
  },
  {
   "cell_type": "code",
   "execution_count": null,
   "metadata": {},
   "outputs": [],
   "source": [
    "fileName = '../Plots/overlapEdges_consituentMatrices.png'\n",
    "plotThreeOverlapSets(edgesPPI, edgesGI, edgesMI, fileName)"
   ]
  },
  {
   "cell_type": "markdown",
   "metadata": {},
   "source": [
    "### Basic network centrality"
   ]
  },
  {
   "cell_type": "code",
   "execution_count": null,
   "metadata": {},
   "outputs": [],
   "source": [
    "centralitiesPPI = centralityMeasures(dfPPI, verbose=True)\n",
    "centralitiesGI = centralityMeasures(dfGI, verbose=True)\n",
    "centralitiesMI = centralityMeasures(dfMI, verbose=True)\n",
    "centralitiesMIN = centralityMeasures(dfMIN, verbose=True)"
   ]
  },
  {
   "cell_type": "code",
   "execution_count": null,
   "metadata": {},
   "outputs": [],
   "source": [
    "dfCentralities = pd.DataFrame([centralitiesPPI, centralitiesGI, centralitiesMI, centralitiesMIN], index=['PPI', 'GI', 'MI', 'MIN'], columns=['Average Degree', 'Eigenvector Centrality', 'Clustering Coefficient', 'Betweeness Centrality', 'Closeness Centrality'])\n",
    "dfCentralities.to_csv('../Data/Results/ConstituentMatrices_centarlitiesComparison.csv')"
   ]
  },
  {
   "cell_type": "markdown",
   "metadata": {},
   "source": [
    "## Compare GDV of the three constituent networks"
   ]
  },
  {
   "cell_type": "markdown",
   "metadata": {},
   "source": [
    "#### Load networks"
   ]
  },
  {
   "cell_type": "code",
   "execution_count": null,
   "metadata": {},
   "outputs": [],
   "source": [
    "edgesListMIN = pd.read_csv('../Data/Networks/MIN_edgeList.csv', header=None)\n",
    "MIN = createAdjacencyMatrixFromEdgeList(edgesListMIN)"
   ]
  },
  {
   "cell_type": "code",
   "execution_count": null,
   "metadata": {},
   "outputs": [],
   "source": [
    "PPI = loadData('../Data/Networks/BioGRID_PPI-HS_edgeList.csv')\n",
    "GI = loadData('../Data/Networks/BioGRID_GI-HS_edgeList.csv')\n",
    "MI = loadData('../Data/Networks/KEGG_metabolic_network_hgnc.csv')"
   ]
  },
  {
   "cell_type": "markdown",
   "metadata": {},
   "source": [
    "#### Create orca files"
   ]
  },
  {
   "cell_type": "code",
   "execution_count": null,
   "metadata": {},
   "outputs": [],
   "source": [
    "label_mappingPPI, reverse_mappingPPI = createOrcaFile(PPI, \"PPI_names_edgelist\")\n",
    "label_mappingGI, reverse_mappingGI = createOrcaFile(GI, \"GI_names_edgelist\")\n",
    "label_mappingMI, reverse_mappingMI = createOrcaFile(MI, \"MI_names_edgelist\")\n",
    "label_mappingMIN, reverse_mappingMIN = createOrcaFile(MIN, \"MIN_names_edgelist\")"
   ]
  },
  {
   "cell_type": "markdown",
   "metadata": {},
   "source": [
    "#### Plot"
   ]
  },
  {
   "cell_type": "code",
   "execution_count": null,
   "metadata": {},
   "outputs": [],
   "source": [
    "saveFile = '../Plots/GDV_constituentMatrices.png'\n",
    "outFilePath = '../Data/OrcaFormatFiles/'\n",
    "plotGDVDifferentNetworks([\"PPI_names_edgelist\", \"GI_names_edgelist\", \"MI_names_edgelist\", \"MIN_names_edgelist\"], outFilePath, [reverse_mappingPPI, reverse_mappingGI, reverse_mappingMI, reverse_mappingMIN], ['PPI', 'GI', 'MI', 'MIN'], saveFile)"
   ]
  }
 ],
 "metadata": {
  "kernelspec": {
   "display_name": "Python 3",
   "language": "python",
   "name": "python3"
  },
  "language_info": {
   "codemirror_mode": {
    "name": "ipython",
    "version": 3
   },
   "file_extension": ".py",
   "mimetype": "text/x-python",
   "name": "python",
   "nbconvert_exporter": "python",
   "pygments_lexer": "ipython3",
   "version": "3.8.8"
  }
 },
 "nbformat": 4,
 "nbformat_minor": 2
}
