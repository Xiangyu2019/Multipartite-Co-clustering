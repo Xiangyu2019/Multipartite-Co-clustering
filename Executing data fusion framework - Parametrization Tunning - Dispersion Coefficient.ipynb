{
 "cells": [
  {
   "cell_type": "code",
   "execution_count": null,
   "metadata": {},
   "outputs": [],
   "source": [
    "import pandas as pd"
   ]
  },
  {
   "cell_type": "code",
   "execution_count": null,
   "metadata": {},
   "outputs": [],
   "source": [
    "%run ../scripts/DataFusionFramework/choosingParameters.py"
   ]
  },
  {
   "cell_type": "markdown",
   "metadata": {},
   "source": [
    "### Creating matrix from data"
   ]
  },
  {
   "cell_type": "code",
   "execution_count": null,
   "metadata": {},
   "outputs": [],
   "source": [
    "proteinsNames = pd.read_csv('../Data/Names/ViralProteins.csv')['Proteins'].values\n",
    "geneNames = pd.read_csv('../Data/Names/Genes.csv')['Genes'].values\n",
    "drugNames = pd.read_csv('../Data/Names/Drugs.csv')['Drugs'].values\n",
    "proteinsNames.shape[0], geneNames.shape[0], drugNames.shape[0]\n"
   ]
  },
  {
   "cell_type": "markdown",
   "metadata": {},
   "source": [
    "### Execute computation of the dispersion coefficient for the different parametrizations"
   ]
  },
  {
   "cell_type": "code",
   "execution_count": null,
   "metadata": {},
   "outputs": [],
   "source": [
    "computeDispersionCoefficient([proteinsNames, geneNames, drugNames], path='../Data/Results/', savePath='../Data/Results/') "
   ]
  }
 ],
 "metadata": {
  "kernelspec": {
   "display_name": "Python 3",
   "language": "python",
   "name": "python3"
  },
  "language_info": {
   "codemirror_mode": {
    "name": "ipython",
    "version": 3
   },
   "file_extension": ".py",
   "mimetype": "text/x-python",
   "name": "python",
   "nbconvert_exporter": "python",
   "pygments_lexer": "ipython3",
   "version": "3.8.8"
  }
 },
 "nbformat": 4,
 "nbformat_minor": 2
}
