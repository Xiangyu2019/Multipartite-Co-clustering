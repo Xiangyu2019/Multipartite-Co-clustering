{
 "cells": [
  {
   "cell_type": "code",
   "execution_count": null,
   "metadata": {},
   "outputs": [],
   "source": [
    "%run ../scripts/Data/creatingMatrices.py\n",
    "%run ../scripts/DataFusionFramework/framework.py"
   ]
  },
  {
   "cell_type": "markdown",
   "metadata": {},
   "source": [
    "### Creating matrix from data"
   ]
  },
  {
   "cell_type": "code",
   "execution_count": null,
   "metadata": {},
   "outputs": [],
   "source": [
    "r12Aug, l2, r23, l3, r12, a2, r23 = matricesCreation(saveMatrices=True, verbose=True, numpy=True, pathLoad='../Data/Raw/', pathSave='../Data/Matrices/', alpha=0.6)"
   ]
  },
  {
   "cell_type": "code",
   "execution_count": null,
   "metadata": {},
   "outputs": [],
   "source": [
    "r12Aug, l2, r23, l3 = matricesLoadNumpy(pathLoad='../Data/Matrices/', alpha=0.6)"
   ]
  },
  {
   "cell_type": "code",
   "execution_count": null,
   "metadata": {},
   "outputs": [],
   "source": [
    "r12Aug.shape, l2.shape, r23.shape, l3.shape"
   ]
  },
  {
   "cell_type": "code",
   "execution_count": null,
   "metadata": {},
   "outputs": [],
   "source": [
    "# Seeds used in the paper \n",
    "seeds = [3020, 3339, 2117, 4060, 2484, 4486, 1152, 3721,  656, 3287]"
   ]
  },
  {
   "cell_type": "markdown",
   "metadata": {},
   "source": [
    "### Tunning parameters - compute the data fusion with different parameters"
   ]
  },
  {
   "cell_type": "code",
   "execution_count": null,
   "metadata": {},
   "outputs": [],
   "source": [
    "saveMatrices = True\n",
    "verbose = True\n",
    "loadPath='../Data/Matrices/'\n",
    "savePath='../Data/Results/'\n",
    "alpha = 0.6\n",
    "\n",
    "\n",
    "for k1 in [3, 5]:\n",
    "    for k2 in [80,100,60,120]:\n",
    "        for k3 in [80,60,40]:\n",
    "\n",
    "            #For each combination run 10 times the method\n",
    "            for r, s in enumerate(seeds):\n",
    "\n",
    "                if verbose: print('Parameters k1={}, k2={}, k3={}, alpha={}. Run number {}'.format(k1, k2, k3, alpha, r))\n",
    "                G1, G2, G3, H12, H23 = matricesRandomAcolInitializationNumpy(r12Aug, r23, l3, k1, k2, k3, s)\n",
    "                factors, errHistory = datafusionframework_triPMF(r12Aug, r23, l2, l3, G1, G2, G3, H12, H23, \\\n",
    "                                                          verbose=True, itStopChecking=100, epsilon=1e-5)\n",
    "                H12, H23, G1, G2, G3 = factors\n",
    "\n",
    "                #The folders must be created by hand (e.g. /0.6_3_80_100/)\n",
    "                if saveMatrices:\n",
    "                    np.save(savePath+'/{}_{}_{}_{}/G1_{}.npy'.format(str(alpha), str(k1), str(k2), str(k3), str(r)), G1)\n",
    "                    np.save(savePath+'/{}_{}_{}_{}/G2_{}.npy'.format(str(alpha), str(k1), str(k2), str(k3), str(r)), G2)\n",
    "                    np.save(savePath+'/{}_{}_{}_{}/G3_{}.npy'.format(str(alpha), str(k1), str(k2), str(k3), str(r)), G3)\n",
    "                    np.save(savePath+'/{}_{}_{}_{}/H12_{}.npy'.format(str(alpha), str(k1), str(k2), str(k3), str(r)), H12)\n",
    "                    np.save(savePath+'/{}_{}_{}_{}/H23_{}.npy'.format(str(alpha), str(k1), str(k2), str(k3), str(r)), H23)\n",
    "\n",
    "                    np.savetxt(savePath+'/{}_{}_{}_{}/errHist_{}.npy'.format(str(alpha), str(k1), str(k2), str(k3), str(r)), errHistory)"
   ]
  }
 ],
 "metadata": {
  "kernelspec": {
   "display_name": "Python 3",
   "language": "python",
   "name": "python3"
  },
  "language_info": {
   "codemirror_mode": {
    "name": "ipython",
    "version": 3
   },
   "file_extension": ".py",
   "mimetype": "text/x-python",
   "name": "python",
   "nbconvert_exporter": "python",
   "pygments_lexer": "ipython3",
   "version": "3.8.8"
  }
 },
 "nbformat": 4,
 "nbformat_minor": 2
}
