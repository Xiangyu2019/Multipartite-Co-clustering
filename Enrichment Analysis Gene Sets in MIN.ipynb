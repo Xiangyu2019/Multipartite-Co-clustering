{
 "cells": [
  {
   "cell_type": "code",
   "execution_count": 1,
   "metadata": {},
   "outputs": [],
   "source": [
    "import pandas as pd"
   ]
  },
  {
   "cell_type": "code",
   "execution_count": 2,
   "metadata": {},
   "outputs": [],
   "source": [
    "%run ../scripts/ResultsAnalysis/enrichementAnalysis.py"
   ]
  },
  {
   "cell_type": "markdown",
   "metadata": {},
   "source": [
    "### VI"
   ]
  },
  {
   "cell_type": "code",
   "execution_count": null,
   "metadata": {},
   "outputs": [],
   "source": [
    "VI = pd.read_csv('../Data/GeneSets/VIsGenes.csv').values.flatten()\n",
    "dfVIEnrichments = enrichmentAnalysisGprofiler(list(VI))"
   ]
  },
  {
   "cell_type": "code",
   "execution_count": null,
   "metadata": {},
   "outputs": [],
   "source": [
    "[t for t in dfVIEnrichments['term_name'].values if 'viral'in t]"
   ]
  },
  {
   "cell_type": "markdown",
   "metadata": {},
   "source": [
    "### DEG"
   ]
  },
  {
   "cell_type": "code",
   "execution_count": null,
   "metadata": {},
   "outputs": [],
   "source": [
    "DEG = pd.read_csv('../Data/GeneSets/DEGsGenes.csv').values.flatten()\n",
    "dfDEGEnrichments = enrichmentAnalysisGprofiler(list(DEG))"
   ]
  },
  {
   "cell_type": "code",
   "execution_count": null,
   "metadata": {},
   "outputs": [],
   "source": [
    "[t for t in dfDEGEnrichments['term_name'].values if 'viral' in t]"
   ]
  },
  {
   "cell_type": "markdown",
   "metadata": {},
   "source": [
    "### VI-unique neighbors"
   ]
  },
  {
   "cell_type": "code",
   "execution_count": null,
   "metadata": {},
   "outputs": [],
   "source": [
    "VINeigh = pd.read_csv('../Data/GeneSets/VINeighboursUniqueGenes.csv').values.flatten()\n",
    "dfVINeighEnrichments = enrichmentAnalysisGprofiler(list(VINeigh))"
   ]
  },
  {
   "cell_type": "code",
   "execution_count": null,
   "metadata": {},
   "outputs": [],
   "source": [
    "[t for t in dfVINeighEnrichments['term_name'].values if 'viral' in t]"
   ]
  },
  {
   "cell_type": "code",
   "execution_count": null,
   "metadata": {},
   "outputs": [],
   "source": [
    "dfVINeighEnrichments.sort_values(['source', 'p_value']).to_csv('../Data/Results/VINeighborsUnique_enrichment.csv', index=False)"
   ]
  },
  {
   "cell_type": "code",
   "execution_count": null,
   "metadata": {},
   "outputs": [],
   "source": [
    "VINeigh.shape, dfVINeighEnrichments.shape"
   ]
  },
  {
   "cell_type": "markdown",
   "metadata": {},
   "source": [
    "### DEG-unique neighbors"
   ]
  },
  {
   "cell_type": "code",
   "execution_count": null,
   "metadata": {},
   "outputs": [],
   "source": [
    "DEGNeigh = pd.read_csv('../Data/GeneSets/DEGNeighboursUniqueGenes.csv').values.flatten()\n",
    "dfDEGNeighnrichments = enrichmentAnalysisGprofiler(list(DEGNeigh))"
   ]
  },
  {
   "cell_type": "code",
   "execution_count": null,
   "metadata": {},
   "outputs": [],
   "source": [
    "[t for t in dfDEGNeighnrichments['term_name'].values if 'viral' in t]"
   ]
  },
  {
   "cell_type": "code",
   "execution_count": null,
   "metadata": {},
   "outputs": [],
   "source": [
    "dfDEGNeighnrichments.sort_values(['source', 'p_value']).to_csv('../Data/Results/DEGNeighborsUnique_enrichment.csv', index=False)\n"
   ]
  },
  {
   "cell_type": "code",
   "execution_count": null,
   "metadata": {},
   "outputs": [],
   "source": [
    "DEGNeigh.shape, dfDEGNeighnrichments.shape"
   ]
  },
  {
   "cell_type": "markdown",
   "metadata": {},
   "source": [
    "### Background"
   ]
  },
  {
   "cell_type": "code",
   "execution_count": null,
   "metadata": {},
   "outputs": [],
   "source": [
    "dfTmp = pd.read_csv('../Data/GeneSets/allGenes.csv')\n",
    "Background = dfTmp[dfTmp['Gene Description'] == 'Background']['Gene'].values\n",
    "dfBackgroundEhnrichments = enrichmentAnalysisGprofiler(list(Background))"
   ]
  },
  {
   "cell_type": "code",
   "execution_count": null,
   "metadata": {},
   "outputs": [],
   "source": [
    "[t for t in dfBackgroundEhnrichments['term_name'].values if 'viral' in t]"
   ]
  },
  {
   "cell_type": "code",
   "execution_count": null,
   "metadata": {},
   "outputs": [],
   "source": [
    "dfBackgroundEhnrichments.sort_values(['source', 'p_value']).to_csv('../Data/Results/Background_enrichment.csv', index=False)\n"
   ]
  },
  {
   "cell_type": "code",
   "execution_count": null,
   "metadata": {},
   "outputs": [],
   "source": [
    "Background.shape, dfBackgroundEhnrichments.shape"
   ]
  },
  {
   "cell_type": "markdown",
   "metadata": {},
   "source": [
    "### All Common Neighbors"
   ]
  },
  {
   "cell_type": "code",
   "execution_count": 4,
   "metadata": {},
   "outputs": [],
   "source": [
    "CN = pd.read_csv('../Data/GeneSets/CommonNeighboursGenes.csv').values.flatten()\n",
    "dfCNEnrichments = enrichmentAnalysisGprofiler(list(CN))"
   ]
  },
  {
   "cell_type": "code",
   "execution_count": 5,
   "metadata": {},
   "outputs": [
    {
     "data": {
      "text/html": [
       "<div>\n",
       "<style scoped>\n",
       "    .dataframe tbody tr th:only-of-type {\n",
       "        vertical-align: middle;\n",
       "    }\n",
       "\n",
       "    .dataframe tbody tr th {\n",
       "        vertical-align: top;\n",
       "    }\n",
       "\n",
       "    .dataframe thead th {\n",
       "        text-align: right;\n",
       "    }\n",
       "</style>\n",
       "<table border=\"1\" class=\"dataframe\">\n",
       "  <thead>\n",
       "    <tr style=\"text-align: right;\">\n",
       "      <th></th>\n",
       "      <th>p_value</th>\n",
       "      <th>source</th>\n",
       "      <th>term_name</th>\n",
       "    </tr>\n",
       "  </thead>\n",
       "  <tbody>\n",
       "    <tr>\n",
       "      <th>57</th>\n",
       "      <td>5.932951e-52</td>\n",
       "      <td>GO:BP</td>\n",
       "      <td>viral process</td>\n",
       "    </tr>\n",
       "    <tr>\n",
       "      <th>334</th>\n",
       "      <td>1.272541e-15</td>\n",
       "      <td>GO:BP</td>\n",
       "      <td>viral transcription</td>\n",
       "    </tr>\n",
       "    <tr>\n",
       "      <th>354</th>\n",
       "      <td>1.579887e-14</td>\n",
       "      <td>GO:BP</td>\n",
       "      <td>viral gene expression</td>\n",
       "    </tr>\n",
       "    <tr>\n",
       "      <th>1005</th>\n",
       "      <td>2.358386e-05</td>\n",
       "      <td>GO:BP</td>\n",
       "      <td>viral life cycle</td>\n",
       "    </tr>\n",
       "    <tr>\n",
       "      <th>1956</th>\n",
       "      <td>4.717683e-02</td>\n",
       "      <td>GO:BP</td>\n",
       "      <td>positive regulation of viral process</td>\n",
       "    </tr>\n",
       "  </tbody>\n",
       "</table>\n",
       "</div>"
      ],
      "text/plain": [
       "           p_value source                             term_name\n",
       "57    5.932951e-52  GO:BP                         viral process\n",
       "334   1.272541e-15  GO:BP                   viral transcription\n",
       "354   1.579887e-14  GO:BP                 viral gene expression\n",
       "1005  2.358386e-05  GO:BP                      viral life cycle\n",
       "1956  4.717683e-02  GO:BP  positive regulation of viral process"
      ]
     },
     "execution_count": 5,
     "metadata": {},
     "output_type": "execute_result"
    }
   ],
   "source": [
    "viralTerms = [t for t in dfCNEnrichments['term_name'].values if 'viral'in t]\n",
    "dfCNEnrichments[dfCNEnrichments['term_name'].isin(viralTerms)][['p_value', 'source', 'term_name']]"
   ]
  },
  {
   "cell_type": "code",
   "execution_count": null,
   "metadata": {},
   "outputs": [],
   "source": [
    "dfCNEnrichments.to_csv('../Data/Results/CommonNeighbours_enrichment.csv', index=False)"
   ]
  },
  {
   "cell_type": "markdown",
   "metadata": {},
   "source": [
    "##### Plot "
   ]
  },
  {
   "cell_type": "code",
   "execution_count": 20,
   "metadata": {},
   "outputs": [],
   "source": [
    "%load_ext rpy2.ipython\n",
    "dfCNEnrichmentsPlot = enrichmentAnalysisGprofiler(list(CN), toPlot=True)\n",
    "dfCNEnrichmentsPlot.columns"
   ]
  },
  {
   "cell_type": "code",
   "execution_count": null,
   "metadata": {},
   "outputs": [],
   "source": [
    "%%R -i dfCNEnrichmentsPlot -w 8 -h 2 --units in -r 400\n",
    "# import df from global environment\n",
    "\n",
    "#Import libraries\n",
    "library(enrichplot)\n",
    "library(DOSE)\n",
    "library(grid)\n",
    "library(ggplot2)\n",
    "\n",
    "\n",
    "#Prepare the data for plotting\n",
    "gp_mod <- dfCNEnrichmentsPlot[,c(\"source\", \"term_id\",\n",
    "                            \"term_name\", \"p_value\", \"query_size\",\n",
    "                            \"intersection_size\", \"term_size\",\n",
    "                            \"effective_domain_size\")]\n",
    "gp_mod$GeneRatio = paste0(gp_mod$intersection_size,  \"/\", gp_mod$query_size)\n",
    "gp_mod$BgRatio = paste0(gp_mod$term_size, \"/\", gp_mod$effective_domain_size)\n",
    "names(gp_mod) = c(\"Category\", \"ID\", \"Description\", \"p.adjust\",\n",
    "                  \"query_size\", \"Count\", \"term_size\", \"effective_domain_size\",\n",
    "                  \"GeneRatio\", \"BgRatio\")\n",
    "row.names(gp_mod) = gp_mod$ID\n",
    "\n",
    "#Selecting the list of terms we want to plot\n",
    "termsToPlot <- c('GO:0016032', 'GO:0019083', 'GO:0019080', 'GO:0019058', 'GO:0048524')\n",
    "\n",
    "#Define as enrichResult object\n",
    "gp_mod_enrich = new(\"enrichResult\", result = gp_mod[termsToPlot,])\n",
    "\n",
    "\n",
    "#Create plot\n",
    "barplot(gp_mod_enrich, showCategory = 40, font.size = 8) + ggplot2::ylab(\"Intersection size\")+ ggplot2::theme(plot.margin = unit(c(0,0,0,2), \"cm\"))\n",
    "\n",
    "#Save plot\n",
    "ggsave(\"../Plots/Enrichments_CommonNeighbors_ViralProcesses.png\")"
   ]
  },
  {
   "cell_type": "code",
   "execution_count": null,
   "metadata": {},
   "outputs": [],
   "source": []
  },
  {
   "cell_type": "code",
   "execution_count": null,
   "metadata": {},
   "outputs": [],
   "source": []
  },
  {
   "cell_type": "markdown",
   "metadata": {},
   "source": [
    "### Enrichment targeted common neighbours "
   ]
  },
  {
   "cell_type": "markdown",
   "metadata": {},
   "source": [
    "#### Adding gene set information"
   ]
  },
  {
   "cell_type": "code",
   "execution_count": 9,
   "metadata": {},
   "outputs": [
    {
     "data": {
      "text/html": [
       "<div>\n",
       "<style scoped>\n",
       "    .dataframe tbody tr th:only-of-type {\n",
       "        vertical-align: middle;\n",
       "    }\n",
       "\n",
       "    .dataframe tbody tr th {\n",
       "        vertical-align: top;\n",
       "    }\n",
       "\n",
       "    .dataframe thead th {\n",
       "        text-align: right;\n",
       "    }\n",
       "</style>\n",
       "<table border=\"1\" class=\"dataframe\">\n",
       "  <thead>\n",
       "    <tr style=\"text-align: right;\">\n",
       "      <th></th>\n",
       "      <th>Gene</th>\n",
       "      <th>DrugBank ID</th>\n",
       "      <th>Score</th>\n",
       "      <th>Gene Description</th>\n",
       "    </tr>\n",
       "  </thead>\n",
       "  <tbody>\n",
       "    <tr>\n",
       "      <th>0</th>\n",
       "      <td>KIT</td>\n",
       "      <td>DB09079</td>\n",
       "      <td>0.915800</td>\n",
       "      <td>DEG-unique neighbor</td>\n",
       "    </tr>\n",
       "    <tr>\n",
       "      <th>1</th>\n",
       "      <td>KIT</td>\n",
       "      <td>DB06626</td>\n",
       "      <td>0.329777</td>\n",
       "      <td>DEG-unique neighbor</td>\n",
       "    </tr>\n",
       "    <tr>\n",
       "      <th>2</th>\n",
       "      <td>PDGFRB</td>\n",
       "      <td>DB08901</td>\n",
       "      <td>0.859385</td>\n",
       "      <td>Common neighbor</td>\n",
       "    </tr>\n",
       "    <tr>\n",
       "      <th>3</th>\n",
       "      <td>PDGFRB</td>\n",
       "      <td>DB09078</td>\n",
       "      <td>0.816084</td>\n",
       "      <td>Common neighbor</td>\n",
       "    </tr>\n",
       "    <tr>\n",
       "      <th>4</th>\n",
       "      <td>UQCR11</td>\n",
       "      <td>DB04141</td>\n",
       "      <td>0.843258</td>\n",
       "      <td>Background</td>\n",
       "    </tr>\n",
       "    <tr>\n",
       "      <th>...</th>\n",
       "      <td>...</td>\n",
       "      <td>...</td>\n",
       "      <td>...</td>\n",
       "      <td>...</td>\n",
       "    </tr>\n",
       "    <tr>\n",
       "      <th>809</th>\n",
       "      <td>CHRNA7</td>\n",
       "      <td>DB00981</td>\n",
       "      <td>0.298938</td>\n",
       "      <td>DEG-unique neighbor</td>\n",
       "    </tr>\n",
       "    <tr>\n",
       "      <th>810</th>\n",
       "      <td>CHRNA7</td>\n",
       "      <td>DB00572</td>\n",
       "      <td>0.296752</td>\n",
       "      <td>DEG-unique neighbor</td>\n",
       "    </tr>\n",
       "    <tr>\n",
       "      <th>811</th>\n",
       "      <td>PDE10A</td>\n",
       "      <td>DB00651</td>\n",
       "      <td>0.298120</td>\n",
       "      <td>Common neighbor</td>\n",
       "    </tr>\n",
       "    <tr>\n",
       "      <th>812</th>\n",
       "      <td>ANXA1</td>\n",
       "      <td>DB01185</td>\n",
       "      <td>0.297246</td>\n",
       "      <td>Common neighbor</td>\n",
       "    </tr>\n",
       "    <tr>\n",
       "      <th>813</th>\n",
       "      <td>KCNN4</td>\n",
       "      <td>DB01028</td>\n",
       "      <td>0.296926</td>\n",
       "      <td>VI-unique neighbor</td>\n",
       "    </tr>\n",
       "  </tbody>\n",
       "</table>\n",
       "<p>814 rows × 4 columns</p>\n",
       "</div>"
      ],
      "text/plain": [
       "       Gene DrugBank ID     Score     Gene Description\n",
       "0       KIT     DB09079  0.915800  DEG-unique neighbor\n",
       "1       KIT     DB06626  0.329777  DEG-unique neighbor\n",
       "2    PDGFRB     DB08901  0.859385      Common neighbor\n",
       "3    PDGFRB     DB09078  0.816084      Common neighbor\n",
       "4    UQCR11     DB04141  0.843258           Background\n",
       "..      ...         ...       ...                  ...\n",
       "809  CHRNA7     DB00981  0.298938  DEG-unique neighbor\n",
       "810  CHRNA7     DB00572  0.296752  DEG-unique neighbor\n",
       "811  PDE10A     DB00651  0.298120      Common neighbor\n",
       "812   ANXA1     DB01185  0.297246      Common neighbor\n",
       "813   KCNN4     DB01028  0.296926   VI-unique neighbor\n",
       "\n",
       "[814 rows x 4 columns]"
      ]
     },
     "execution_count": 9,
     "metadata": {},
     "output_type": "execute_result"
    }
   ],
   "source": [
    "allGenes= pd.read_csv('../Data/GeneSets/allGenes.csv')\n",
    "predictedDTIs = pd.read_csv('../Data/Results/predictedDTIs.csv')\n",
    "dfDTIsGeneSet = pd.merge(predictedDTIs, allGenes, on='Gene')\n",
    "dfDTIsGeneSet.columns = ['Gene', 'DrugBank ID', 'Score', 'Gene Description']\n",
    "dfDTIsGeneSet"
   ]
  },
  {
   "cell_type": "markdown",
   "metadata": {},
   "source": [
    "#### Adding drugs information"
   ]
  },
  {
   "cell_type": "code",
   "execution_count": 10,
   "metadata": {},
   "outputs": [],
   "source": [
    "dfDrugGroup = pd.read_csv('../Data/Raw/Drug_Groups.csv')[['DrugBank ID', 'DrugBank Name', 'Group']]\n",
    "dfDrugGroup.columns = ['DrugBank ID', 'DrugBank Name', 'Drug Status']\n",
    "dfDTIsGeneSetDrugInfo = pd.merge(dfDTIsGeneSet, dfDrugGroup, on='DrugBank ID')\n",
    "\n",
    "#Some drugs have different status, keeping the approved/experimental and if both are for the same drug keep approved\n",
    "dfDTIsGeneSetDrugInfo = dfDTIsGeneSetDrugInfo[dfDTIsGeneSetDrugInfo['Drug Status'].isin(['approved', 'experimental'])]\n",
    "indexDrugExperimentalAlsoApproved = dfDTIsGeneSetDrugInfo[dfDTIsGeneSetDrugInfo.duplicated(subset=['Gene', 'DrugBank ID'])].index\n",
    "dfDTIsGeneSetDrugInfo.drop(indexDrugExperimentalAlsoApproved, axis=0, inplace=True)\n",
    "\n",
    "dfDTIsGeneSetDrugInfo.to_csv('../Data/Results/predictedDTIsInfo.csv')"
   ]
  },
  {
   "cell_type": "code",
   "execution_count": 11,
   "metadata": {},
   "outputs": [
    {
     "data": {
      "text/html": [
       "<div>\n",
       "<style scoped>\n",
       "    .dataframe tbody tr th:only-of-type {\n",
       "        vertical-align: middle;\n",
       "    }\n",
       "\n",
       "    .dataframe tbody tr th {\n",
       "        vertical-align: top;\n",
       "    }\n",
       "\n",
       "    .dataframe thead th {\n",
       "        text-align: right;\n",
       "    }\n",
       "</style>\n",
       "<table border=\"1\" class=\"dataframe\">\n",
       "  <thead>\n",
       "    <tr style=\"text-align: right;\">\n",
       "      <th></th>\n",
       "      <th>Gene</th>\n",
       "      <th>DrugBank ID</th>\n",
       "      <th>Score</th>\n",
       "      <th>Gene Description</th>\n",
       "      <th>DrugBank Name</th>\n",
       "      <th>Drug Status</th>\n",
       "    </tr>\n",
       "  </thead>\n",
       "  <tbody>\n",
       "    <tr>\n",
       "      <th>2</th>\n",
       "      <td>ABL1</td>\n",
       "      <td>DB09079</td>\n",
       "      <td>0.445404</td>\n",
       "      <td>Common neighbor</td>\n",
       "      <td>Nintedanib</td>\n",
       "      <td>approved</td>\n",
       "    </tr>\n",
       "    <tr>\n",
       "      <th>3</th>\n",
       "      <td>FGFR4</td>\n",
       "      <td>DB09079</td>\n",
       "      <td>0.302215</td>\n",
       "      <td>Common neighbor</td>\n",
       "      <td>Nintedanib</td>\n",
       "      <td>approved</td>\n",
       "    </tr>\n",
       "    <tr>\n",
       "      <th>6</th>\n",
       "      <td>PDGFRA</td>\n",
       "      <td>DB06626</td>\n",
       "      <td>0.297646</td>\n",
       "      <td>Common neighbor</td>\n",
       "      <td>Axitinib</td>\n",
       "      <td>approved</td>\n",
       "    </tr>\n",
       "    <tr>\n",
       "      <th>8</th>\n",
       "      <td>PDGFRB</td>\n",
       "      <td>DB08901</td>\n",
       "      <td>0.859385</td>\n",
       "      <td>Common neighbor</td>\n",
       "      <td>Ponatinib</td>\n",
       "      <td>approved</td>\n",
       "    </tr>\n",
       "    <tr>\n",
       "      <th>12</th>\n",
       "      <td>FLT4</td>\n",
       "      <td>DB08901</td>\n",
       "      <td>0.628299</td>\n",
       "      <td>Common neighbor</td>\n",
       "      <td>Ponatinib</td>\n",
       "      <td>approved</td>\n",
       "    </tr>\n",
       "    <tr>\n",
       "      <th>...</th>\n",
       "      <td>...</td>\n",
       "      <td>...</td>\n",
       "      <td>...</td>\n",
       "      <td>...</td>\n",
       "      <td>...</td>\n",
       "      <td>...</td>\n",
       "    </tr>\n",
       "    <tr>\n",
       "      <th>1145</th>\n",
       "      <td>CASP3</td>\n",
       "      <td>DB01169</td>\n",
       "      <td>0.361553</td>\n",
       "      <td>Common neighbor</td>\n",
       "      <td>Arsenic trioxide</td>\n",
       "      <td>approved</td>\n",
       "    </tr>\n",
       "    <tr>\n",
       "      <th>1147</th>\n",
       "      <td>AKR1B1</td>\n",
       "      <td>DB03147</td>\n",
       "      <td>0.357395</td>\n",
       "      <td>Common neighbor</td>\n",
       "      <td>Flavin adenine dinucleotide</td>\n",
       "      <td>approved</td>\n",
       "    </tr>\n",
       "    <tr>\n",
       "      <th>1150</th>\n",
       "      <td>CA9</td>\n",
       "      <td>DB00819</td>\n",
       "      <td>0.316179</td>\n",
       "      <td>Common neighbor</td>\n",
       "      <td>Acetazolamide</td>\n",
       "      <td>approved</td>\n",
       "    </tr>\n",
       "    <tr>\n",
       "      <th>1152</th>\n",
       "      <td>TLR4</td>\n",
       "      <td>DB02325</td>\n",
       "      <td>0.351178</td>\n",
       "      <td>Common neighbor</td>\n",
       "      <td>Isopropyl alcohol</td>\n",
       "      <td>approved</td>\n",
       "    </tr>\n",
       "    <tr>\n",
       "      <th>1215</th>\n",
       "      <td>ANXA1</td>\n",
       "      <td>DB01185</td>\n",
       "      <td>0.297246</td>\n",
       "      <td>Common neighbor</td>\n",
       "      <td>Fluoxymesterone</td>\n",
       "      <td>approved</td>\n",
       "    </tr>\n",
       "  </tbody>\n",
       "</table>\n",
       "<p>185 rows × 6 columns</p>\n",
       "</div>"
      ],
      "text/plain": [
       "        Gene DrugBank ID     Score Gene Description  \\\n",
       "2       ABL1     DB09079  0.445404  Common neighbor   \n",
       "3      FGFR4     DB09079  0.302215  Common neighbor   \n",
       "6     PDGFRA     DB06626  0.297646  Common neighbor   \n",
       "8     PDGFRB     DB08901  0.859385  Common neighbor   \n",
       "12      FLT4     DB08901  0.628299  Common neighbor   \n",
       "...      ...         ...       ...              ...   \n",
       "1145   CASP3     DB01169  0.361553  Common neighbor   \n",
       "1147  AKR1B1     DB03147  0.357395  Common neighbor   \n",
       "1150     CA9     DB00819  0.316179  Common neighbor   \n",
       "1152    TLR4     DB02325  0.351178  Common neighbor   \n",
       "1215   ANXA1     DB01185  0.297246  Common neighbor   \n",
       "\n",
       "                    DrugBank Name Drug Status  \n",
       "2                      Nintedanib    approved  \n",
       "3                      Nintedanib    approved  \n",
       "6                        Axitinib    approved  \n",
       "8                       Ponatinib    approved  \n",
       "12                      Ponatinib    approved  \n",
       "...                           ...         ...  \n",
       "1145             Arsenic trioxide    approved  \n",
       "1147  Flavin adenine dinucleotide    approved  \n",
       "1150                Acetazolamide    approved  \n",
       "1152            Isopropyl alcohol    approved  \n",
       "1215              Fluoxymesterone    approved  \n",
       "\n",
       "[185 rows x 6 columns]"
      ]
     },
     "execution_count": 11,
     "metadata": {},
     "output_type": "execute_result"
    }
   ],
   "source": [
    "dfDTIsCommonNeighApproved = dfDTIsGeneSetDrugInfo[(dfDTIsGeneSetDrugInfo['Drug Status']== 'approved')&(dfDTIsGeneSetDrugInfo['Gene Description']=='Common neighbor')]\n",
    "dfDTIsCommonNeighApproved"
   ]
  },
  {
   "cell_type": "code",
   "execution_count": 12,
   "metadata": {},
   "outputs": [
    {
     "name": "stdout",
     "output_type": "stream",
     "text": [
      "49  targeted common neighbors\n"
     ]
    }
   ],
   "source": [
    "CNTargeted = dfDTIsCommonNeighApproved['Gene'].unique()\n",
    "print(CNTargeted.shape[0], ' targeted common neighbors')\n",
    "dfCNTargeted = enrichmentAnalysisGprofiler(list(CNTargeted))"
   ]
  },
  {
   "cell_type": "code",
   "execution_count": null,
   "metadata": {},
   "outputs": [],
   "source": [
    "dfCNTargeted = enrichmentAnalysisGprofiler(list(CNTargeted))\n",
    "dfCNTargeted.to_csv('../Data/Results/TargetedCommonNeighbours_enrichment.csv', index=False)"
   ]
  },
  {
   "cell_type": "markdown",
   "metadata": {},
   "source": [
    "##### Plot "
   ]
  },
  {
   "cell_type": "code",
   "execution_count": null,
   "metadata": {},
   "outputs": [],
   "source": [
    "%load_ext rpy2.ipython\n",
    "dfCNTargetedPlot = enrichmentAnalysisGprofiler(list(CNTargeted), toPlot=True)\n",
    "dfCNTargetedPlot.columns"
   ]
  },
  {
   "cell_type": "code",
   "execution_count": null,
   "metadata": {},
   "outputs": [],
   "source": [
    "%%R -i dfCNTargetedPlot -w 8 -h 5 --units in -r 400\n",
    "# import df from global environment\n",
    "\n",
    "#Import libraries\n",
    "library(enrichplot)\n",
    "library(DOSE)\n",
    "library(grid)\n",
    "library(ggplot2)\n",
    "\n",
    "\n",
    "#Prepare the data for plotting\n",
    "gp_mod <- dfCNTargetedPlot[,c(\"source\", \"term_id\",\n",
    "                            \"term_name\", \"p_value\", \"query_size\",\n",
    "                            \"intersection_size\", \"term_size\",\n",
    "                            \"effective_domain_size\")]\n",
    "gp_mod$GeneRatio = paste0(gp_mod$intersection_size,  \"/\", gp_mod$query_size)\n",
    "gp_mod$BgRatio = paste0(gp_mod$term_size, \"/\", gp_mod$effective_domain_size)\n",
    "names(gp_mod) = c(\"Category\", \"ID\", \"Description\", \"p.adjust\",\n",
    "                  \"query_size\", \"Count\", \"term_size\", \"effective_domain_size\",\n",
    "                  \"GeneRatio\", \"BgRatio\")\n",
    "row.names(gp_mod) = gp_mod$ID\n",
    "\n",
    "#Selecting the list of terms we want to plot\n",
    "termsToPlot <- c('GO:0007186', 'GO:0098664', 'GO:0007188', 'GO:0007193', 'GO:0007200', 'GO:0008227', 'GO:0004993', \n",
    "                 'GO:0000165', 'GO:0043408', 'GO:0043410',    \n",
    "                 'GO:0038086', 'GO:0038091',\n",
    "                 'GO:0070371', 'GO:0070372', 'GO:0070374', \n",
    "                 'GO:0006198', 'GO:0046058', 'GO:0043951', 'GO:0043949', 'GO:0019933', 'GO:0030552',\n",
    "                 'GO:0045834', 'GO:0008015', 'GO:0034702', 'GO:0099589', 'GO:0051378', 'GO:0042417', 'GO:1903351',\n",
    "                 'GO:1903350', 'GO:0004517',   \n",
    "                 'KEGG:04151', 'KEGG:04014', 'KEGG:04010', 'KEGG:04024', 'KEGG:04370',   \n",
    "                 'REAC:R-HSA-375280', 'REAC:R-HSA-1280215', 'REAC:R-HSA-392154')\n",
    "\n",
    "#Define as enrichResult object\n",
    "gp_mod_enrich = new(\"enrichResult\", result = gp_mod[termsToPlot,])\n",
    "\n",
    "\n",
    "#Create plot\n",
    "barplot(gp_mod_enrich, showCategory = 40, font.size = 8) + ggplot2::ylab(\"Intersection size\")+ ggplot2::theme(plot.margin = unit(c(0,0,0,2), \"cm\"))\n",
    "\n",
    "#Save plot\n",
    "ggsave(\"../Plots/Enrichments_targetedCommonNeighbors.png\")"
   ]
  },
  {
   "cell_type": "code",
   "execution_count": null,
   "metadata": {},
   "outputs": [],
   "source": [
    "dfCNTargeted.to_csv('../Data/Results/TargetedCommonNeighbours_enrichment.csv', index=False)"
   ]
  }
 ],
 "metadata": {
  "kernelspec": {
   "display_name": "Python 3",
   "language": "python",
   "name": "python3"
  },
  "language_info": {
   "codemirror_mode": {
    "name": "ipython",
    "version": 3
   },
   "file_extension": ".py",
   "mimetype": "text/x-python",
   "name": "python",
   "nbconvert_exporter": "python",
   "pygments_lexer": "ipython3",
   "version": "3.8.8"
  }
 },
 "nbformat": 4,
 "nbformat_minor": 2
}
