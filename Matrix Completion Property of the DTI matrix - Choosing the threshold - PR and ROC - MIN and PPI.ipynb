{
 "cells": [
  {
   "cell_type": "code",
   "execution_count": null,
   "metadata": {},
   "outputs": [],
   "source": [
    "import pandas as pd\n",
    "import numpy as np"
   ]
  },
  {
   "cell_type": "code",
   "execution_count": null,
   "metadata": {},
   "outputs": [],
   "source": [
    "%run ../scripts/ResultsAnalysis/PRandROCcurves.py\n",
    "%run ../scripts/plots.py"
   ]
  },
  {
   "cell_type": "markdown",
   "metadata": {},
   "source": [
    "### MIN"
   ]
  },
  {
   "cell_type": "markdown",
   "metadata": {},
   "source": [
    "#### Load matrices"
   ]
  },
  {
   "cell_type": "code",
   "execution_count": null,
   "metadata": {},
   "outputs": [],
   "source": [
    "R23_reconstruct_MIN = reconstructR23('../Data/Results/')\n",
    "r23_MIN = np.load('../Data/Matrices/Matrix_R23.npy')\n",
    "r23_MIN.shape, R23_reconstruct_MIN.shape"
   ]
  },
  {
   "cell_type": "markdown",
   "metadata": {},
   "source": [
    "#### Find Threshold using PRcurve"
   ]
  },
  {
   "cell_type": "code",
   "execution_count": null,
   "metadata": {},
   "outputs": [],
   "source": [
    "maxF1_MIN, thresholdF1_MIN, precisionMaxF1_MIN, recallMaxF1_MIN, precision_MIN, recall_MIN, pr_auc_MIN = computePRCurve(r23_MIN.flatten(), R23_reconstruct_MIN.flatten())\n"
   ]
  },
  {
   "cell_type": "code",
   "execution_count": null,
   "metadata": {},
   "outputs": [],
   "source": [
    "saveFile = '../Plots/PR-curve.png'\n",
    "plotPRCurve(precision_MIN, recall_MIN, maxF1_MIN, precisionMaxF1_MIN, recallMaxF1_MIN, pr_auc_MIN, thresholdF1_MIN, saveFile)"
   ]
  },
  {
   "cell_type": "markdown",
   "metadata": {},
   "source": [
    "#### ROC cruve"
   ]
  },
  {
   "cell_type": "code",
   "execution_count": null,
   "metadata": {},
   "outputs": [],
   "source": [
    "fpr_MIN, tpr_MIN, roc_auc_MIN = computeROC(r23_MIN.flatten(), R23_reconstruct_MIN.flatten())"
   ]
  },
  {
   "cell_type": "code",
   "execution_count": null,
   "metadata": {},
   "outputs": [],
   "source": [
    "saveFile = '../Plots/ROC-curve.png'\n",
    "plotROCCurve(fpr_MIN, tpr_MIN,roc_auc_MIN, saveFile)"
   ]
  },
  {
   "cell_type": "markdown",
   "metadata": {},
   "source": [
    "#### Distribution of association scores"
   ]
  },
  {
   "cell_type": "code",
   "execution_count": null,
   "metadata": {},
   "outputs": [],
   "source": [
    "valuesNotInOriginal_MIN, alreadyPaired_inReconstructed_MIN = computeNewPairs(R23_reconstruct_MIN, r23_MIN)"
   ]
  },
  {
   "cell_type": "code",
   "execution_count": null,
   "metadata": {},
   "outputs": [],
   "source": [
    "saveFile = '../Plots/DTI_DistributionAssociationScores.png'\n",
    "plotAssociationScores(valuesNotInOriginal_MIN, alreadyPaired_inReconstructed_MIN, thresholdF1_MIN, saveFile)"
   ]
  },
  {
   "cell_type": "markdown",
   "metadata": {},
   "source": [
    "#### Constrain the Reconstructed matrix --> predicted DTIs"
   ]
  },
  {
   "cell_type": "code",
   "execution_count": null,
   "metadata": {},
   "outputs": [],
   "source": [
    "geneNames = pd.read_csv('../Data/Names/Genes.csv')['Genes'].values\n",
    "drugNames = pd.read_csv('../Data/Names/Drugs.csv')['Drugs'].values\n",
    "geneNames.shape[0], drugNames.shape[0]"
   ]
  },
  {
   "cell_type": "code",
   "execution_count": null,
   "metadata": {},
   "outputs": [],
   "source": [
    "saveFile = '../Data/Results/predictedDTIs.csv'\n",
    "restricDTIs(thresholdF1_MIN, R23_reconstruct_MIN, r23_MIN, drugNames, geneNames, saveFile)"
   ]
  },
  {
   "cell_type": "markdown",
   "metadata": {},
   "source": [
    "## PPI"
   ]
  },
  {
   "cell_type": "markdown",
   "metadata": {},
   "source": [
    "#### Load Matrices"
   ]
  },
  {
   "cell_type": "code",
   "execution_count": null,
   "metadata": {
    "scrolled": true
   },
   "outputs": [],
   "source": [
    "R23_reconstruct_PPI = reconstructR23('../Data/Results/PPIasHumanInteractome/')\n",
    "r23_PPI = np.load('../Data/Matrices/PPIasHumanInteractome/Matrix_R23.npy')\n",
    "r23_PPI.shape, R23_reconstruct_PPI.shape"
   ]
  },
  {
   "cell_type": "markdown",
   "metadata": {},
   "source": [
    "#### Find the threshold using PRcurve"
   ]
  },
  {
   "cell_type": "code",
   "execution_count": null,
   "metadata": {},
   "outputs": [],
   "source": [
    "maxF1_PPI, thresholdF1_PPI, precisionMaxF1_PPI, recallMaxF1_PPI, precision_PPI, recall_PPI, pr_auc_PPI = computePRCurve(r23_PPI.flatten(), R23_reconstruct_PPI.flatten())"
   ]
  },
  {
   "cell_type": "markdown",
   "metadata": {},
   "source": [
    "#### Plot PRcurve comparison MIN and PPI"
   ]
  },
  {
   "cell_type": "code",
   "execution_count": null,
   "metadata": {},
   "outputs": [],
   "source": [
    "saveFile = '../Plots/DTI_PRCurve_ComparisonMINPPI.png'\n",
    "plotTwoPRCurve([precision_MIN, precision_PPI], \n",
    "                [recall_MIN, recall_PPI], \n",
    "                [maxF1_MIN, maxF1_PPI], \n",
    "                [thresholdF1_MIN, thresholdF1_PPI], \n",
    "                [precisionMaxF1_MIN, precisionMaxF1_PPI], \n",
    "                [recallMaxF1_MIN, recallMaxF1_PPI], \n",
    "                [pr_auc_MIN, pr_auc_PPI], saveFile)"
   ]
  },
  {
   "cell_type": "markdown",
   "metadata": {},
   "source": [
    "### ROC"
   ]
  },
  {
   "cell_type": "code",
   "execution_count": null,
   "metadata": {},
   "outputs": [],
   "source": [
    "fpr_PPI, tpr_PPI, roc_auc_PPI = computeROC(r23_PPI.flatten(), R23_reconstruct_PPI.flatten())"
   ]
  },
  {
   "cell_type": "markdown",
   "metadata": {},
   "source": [
    "#### Plot ROCcurve comparison MIN and PPI"
   ]
  },
  {
   "cell_type": "code",
   "execution_count": null,
   "metadata": {},
   "outputs": [],
   "source": [
    "saveFile = '../Plots/DTI_ROCCurve_ComparisonMINPPI.png'\n",
    "plotTwoROCcurves([fpr_MIN, fpr_PPI], [tpr_MIN, tpr_PPI], [roc_auc_MIN, roc_auc_PPI], saveFile)"
   ]
  },
  {
   "cell_type": "markdown",
   "metadata": {},
   "source": [
    "#### Distribution of association scores"
   ]
  },
  {
   "cell_type": "code",
   "execution_count": null,
   "metadata": {},
   "outputs": [],
   "source": [
    "valuesNotInOriginal_PPI, alreadyPaired_inReconstructed_PPI = computeNewPairs(R23_reconstruct_PPI, r23_PPI)"
   ]
  },
  {
   "cell_type": "code",
   "execution_count": null,
   "metadata": {},
   "outputs": [],
   "source": [
    "saveFile = '../Plots/DTI_DistributionAssociationScores_PPI.png'\n",
    "plotAssociationScores(valuesNotInOriginal_PPI, alreadyPaired_inReconstructed_PPI, thresholdF1_PPI, saveFile)"
   ]
  },
  {
   "cell_type": "markdown",
   "metadata": {},
   "source": [
    "#### Constrain the Reconstructed matrix --> predicted DTIs"
   ]
  },
  {
   "cell_type": "code",
   "execution_count": null,
   "metadata": {},
   "outputs": [],
   "source": [
    "geneNames_PPI = pd.read_csv('../Data/Names/Genes_PPI.csv')['Genes'].values\n",
    "drugNames = pd.read_csv('../Data/Names/Drugs.csv')['Drugs'].values\n",
    "geneNames.shape[0], drugNames.shape[0]"
   ]
  },
  {
   "cell_type": "code",
   "execution_count": null,
   "metadata": {},
   "outputs": [],
   "source": [
    "saveFile = '../Data/Results/PPIasHumanInteractome/predictedDTIs_PPI.csv'\n",
    "restricDTIs(thresholdF1_PPI, R23_reconstruct_PPI, r23_PPI, drugNames, geneNames_PPI, saveFile)"
   ]
  }
 ],
 "metadata": {
  "kernelspec": {
   "display_name": "Python 3",
   "language": "python",
   "name": "python3"
  },
  "language_info": {
   "codemirror_mode": {
    "name": "ipython",
    "version": 3
   },
   "file_extension": ".py",
   "mimetype": "text/x-python",
   "name": "python",
   "nbconvert_exporter": "python",
   "pygments_lexer": "ipython3",
   "version": "3.8.8"
  }
 },
 "nbformat": 4,
 "nbformat_minor": 2
}
